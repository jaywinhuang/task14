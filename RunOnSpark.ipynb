{
 "cells": [
  {
   "cell_type": "markdown",
   "metadata": {},
   "source": [
    "# 1. Prepare feature matrix\n",
    "\n",
    "Feature matrix are saved via previous program. So in this part, they are loaded from local files."
   ]
  },
  {
   "cell_type": "markdown",
   "metadata": {},
   "source": [
    "# 2. Run in Spark"
   ]
  },
  {
   "cell_type": "code",
   "execution_count": 77,
   "metadata": {},
   "outputs": [],
   "source": [
    "spark = SparkSession.builder.appName(\"HomeDepot\").getOrCreate()\n",
    "df = spark.read.csv(\"/Users/jiemin/Documents/cmu/tasks/task14/train_s_formatted.csv\",header=True,inferSchema=True)"
   ]
  },
  {
   "cell_type": "code",
   "execution_count": 78,
   "metadata": {},
   "outputs": [
    {
     "data": {
      "text/plain": [
       "[Row(id=2, product_uid=100001, relevance=3.0, cosine_1=0.276609, cosine_2=0.206489, cosine_3=0.0, common_word=1.0, fuzzy_train=56.0, jaccard_train=0.2, query_length=2.0)]"
      ]
     },
     "execution_count": 78,
     "metadata": {},
     "output_type": "execute_result"
    }
   ],
   "source": [
    "df.take(1)"
   ]
  },
  {
   "cell_type": "code",
   "execution_count": 79,
   "metadata": {},
   "outputs": [],
   "source": [
    "trainSet, testSet = df.randomSplit([0.8, 0.2])"
   ]
  },
  {
   "cell_type": "code",
   "execution_count": 80,
   "metadata": {},
   "outputs": [
    {
     "data": {
      "text/plain": [
       "[Row(id=2, product_uid=100001, relevance=3.0, cosine_1=0.276609, cosine_2=0.206489, cosine_3=0.0, common_word=1.0, fuzzy_train=56.0, jaccard_train=0.2, query_length=2.0)]"
      ]
     },
     "execution_count": 80,
     "metadata": {},
     "output_type": "execute_result"
    }
   ],
   "source": [
    "trainSet.take(1)"
   ]
  },
  {
   "cell_type": "markdown",
   "metadata": {},
   "source": [
    "## (1) Linear regression"
   ]
  },
  {
   "cell_type": "code",
   "execution_count": 81,
   "metadata": {},
   "outputs": [],
   "source": [
    "from pyspark.ml.feature import VectorAssembler\n",
    "from pyspark.ml.regression import LinearRegression\n",
    "from pyspark.mllib.linalg import SparseVector\n",
    "from pyspark.sql.functions import udf\n",
    "vs = VectorAssembler(inputCols=[\"cosine_1\",\"cosine_2\",\"cosine_3\",\"common_word\",\"fuzzy_train\",\"jaccard_train\",\"query_length\"],outputCol='features')\n",
    "# vs = VectorAssembler(inputCols=[\"query_length\"],outputCol='features')\n",
    "train_lr = vs.transform(trainSet)"
   ]
  },
  {
   "cell_type": "code",
   "execution_count": 82,
   "metadata": {},
   "outputs": [
    {
     "data": {
      "text/plain": [
       "[Row(id=2, product_uid=100001, relevance=3.0, cosine_1=0.276609, cosine_2=0.206489, cosine_3=0.0, common_word=1.0, fuzzy_train=56.0, jaccard_train=0.2, query_length=2.0, features=DenseVector([0.2766, 0.2065, 0.0, 1.0, 56.0, 0.2, 2.0]))]"
      ]
     },
     "execution_count": 82,
     "metadata": {},
     "output_type": "execute_result"
    }
   ],
   "source": [
    "train_lr.take(1)"
   ]
  },
  {
   "cell_type": "code",
   "execution_count": 83,
   "metadata": {},
   "outputs": [],
   "source": [
    "lr = LinearRegression(featuresCol='features', regParam=0.3, elasticNetParam=0.8,labelCol='relevance',maxIter=1000)\n",
    "model = lr.fit(train_lr)"
   ]
  },
  {
   "cell_type": "code",
   "execution_count": 84,
   "metadata": {},
   "outputs": [
    {
     "name": "stdout",
     "output_type": "stream",
     "text": [
      "Coefficients: [0.0,0.0,0.0,0.0,0.0,0.0,0.0]\n",
      "Intercept: 2.3830579675733823\n",
      "numIterations: 1\n",
      "objectiveHistory: [0.4999999999999982]\n",
      "RMSE: 0.533692\n",
      "r2: -0.000000\n"
     ]
    }
   ],
   "source": [
    "lr_summary = model.summary\n",
    "print(\"Coefficients: %s\" % str(model.coefficients))\n",
    "print(\"Intercept: %s\" % str(model.intercept))\n",
    "print(\"numIterations: %d\" % lr_summary.totalIterations)\n",
    "print(\"objectiveHistory: %s\" % str(lr_summary.objectiveHistory))\n",
    "print(\"RMSE: %f\" % lr_summary.rootMeanSquaredError)\n",
    "print(\"r2: %f\" % lr_summary.r2)"
   ]
  },
  {
   "cell_type": "code",
   "execution_count": 85,
   "metadata": {},
   "outputs": [],
   "source": [
    "test_lr = vs.transform(testSet)\n",
    "predict_lr = model.transform(test_lr)"
   ]
  },
  {
   "cell_type": "code",
   "execution_count": 86,
   "metadata": {},
   "outputs": [
    {
     "name": "stdout",
     "output_type": "stream",
     "text": [
      "+---+-----------+---------+--------+--------+--------+-----------+-----------+-------------+------------+--------------------+------------------+\n",
      "| id|product_uid|relevance|cosine_1|cosine_2|cosine_3|common_word|fuzzy_train|jaccard_train|query_length|            features|        prediction|\n",
      "+---+-----------+---------+--------+--------+--------+-----------+-----------+-------------+------------+--------------------+------------------+\n",
      "| 16|     100005|     2.33|0.145886|0.383327|  0.0451|        1.0|       55.0|     0.066667|         3.0|[0.145886,0.38332...|2.3830579675733823|\n",
      "| 23|     100007|     2.67|0.422888|0.304101| 0.14809|        1.0|      100.0|          0.1|         2.0|[0.422888,0.30410...|2.3830579675733823|\n",
      "| 81|     100017|     2.33|     0.0|0.604409|     0.0|        0.0|       21.0|          0.0|         2.0|(7,[1,4,6],[0.604...|2.3830579675733823|\n",
      "+---+-----------+---------+--------+--------+--------+-----------+-----------+-------------+------------+--------------------+------------------+\n",
      "only showing top 3 rows\n",
      "\n"
     ]
    }
   ],
   "source": [
    "predict_lr.show(3)"
   ]
  },
  {
   "cell_type": "code",
   "execution_count": 87,
   "metadata": {},
   "outputs": [
    {
     "name": "stdout",
     "output_type": "stream",
     "text": [
      "Root Mean Squared Error (RMSE) on validation data = 0.535112\n"
     ]
    }
   ],
   "source": [
    "from pyspark.ml.evaluation import RegressionEvaluator\n",
    "evaluator = RegressionEvaluator(\n",
    "    labelCol=\"relevance\", predictionCol=\"prediction\", metricName=\"rmse\")\n",
    "rmse = evaluator.evaluate(predict_lr)\n",
    "print(\"Root Mean Squared Error (RMSE) on validation data = %g\" % rmse)"
   ]
  },
  {
   "cell_type": "markdown",
   "metadata": {},
   "source": [
    "## (2) Random forest"
   ]
  },
  {
   "cell_type": "code",
   "execution_count": 88,
   "metadata": {},
   "outputs": [],
   "source": [
    "from pyspark.ml.regression import RandomForestRegressor\n",
    "from pyspark.ml.feature import VectorIndexer \n",
    "from pyspark.ml.feature import IndexToString, StringIndexer\n",
    "from pyspark.ml import Pipeline \n",
    "\n",
    "rf = RandomForestRegressor(featuresCol=\"features\")\n",
    "featureIndexer = VectorIndexer(inputCol=\"features\", outputCol=\"indexedFeatures\").fit(train_lr)\n",
    "labelIndexer = StringIndexer(inputCol=\"relevance\", outputCol=\"label\").fit(train_lr)\n",
    "pipeline = Pipeline(stages=[labelIndexer, featureIndexer, rf])\n",
    "model = pipeline.fit(train_lr)\n",
    "predict_rf = model.transform(test_lr)"
   ]
  },
  {
   "cell_type": "code",
   "execution_count": 89,
   "metadata": {},
   "outputs": [
    {
     "name": "stdout",
     "output_type": "stream",
     "text": [
      "+---+-----------+---------+--------+--------+--------+-----------+-----------+-------------+------------+--------------------+\n",
      "| id|product_uid|relevance|cosine_1|cosine_2|cosine_3|common_word|fuzzy_train|jaccard_train|query_length|            features|\n",
      "+---+-----------+---------+--------+--------+--------+-----------+-----------+-------------+------------+--------------------+\n",
      "|  2|     100001|      3.0|0.276609|0.206489|     0.0|        1.0|       56.0|          0.2|         2.0|[0.276609,0.20648...|\n",
      "|  3|     100001|      2.5|     0.0|0.206489|     0.0|        0.0|       19.0|          0.0|         2.0|(7,[1,4,6],[0.206...|\n",
      "|  9|     100002|      3.0|     0.0|0.240663|0.056452|        0.0|       19.0|          0.0|         2.0|[0.0,0.240663,0.0...|\n",
      "+---+-----------+---------+--------+--------+--------+-----------+-----------+-------------+------------+--------------------+\n",
      "only showing top 3 rows\n",
      "\n"
     ]
    }
   ],
   "source": [
    "train_lr.show(3)"
   ]
  },
  {
   "cell_type": "code",
   "execution_count": 90,
   "metadata": {},
   "outputs": [
    {
     "name": "stdout",
     "output_type": "stream",
     "text": [
      "+---+-----------+---------+--------+--------+--------+-----------+-----------+-------------+------------+--------------------+-----+--------------------+------------------+\n",
      "| id|product_uid|relevance|cosine_1|cosine_2|cosine_3|common_word|fuzzy_train|jaccard_train|query_length|            features|label|     indexedFeatures|        prediction|\n",
      "+---+-----------+---------+--------+--------+--------+-----------+-----------+-------------+------------+--------------------+-----+--------------------+------------------+\n",
      "| 16|     100005|     2.33|0.145886|0.383327|  0.0451|        1.0|       55.0|     0.066667|         3.0|[0.145886,0.38332...|  1.0|[0.145886,0.38332...|2.3154171800580485|\n",
      "| 23|     100007|     2.67|0.422888|0.304101| 0.14809|        1.0|      100.0|          0.1|         2.0|[0.422888,0.30410...|  2.0|[0.422888,0.30410...|1.2797180313774803|\n",
      "| 81|     100017|     2.33|     0.0|0.604409|     0.0|        0.0|       21.0|          0.0|         2.0|(7,[1,4,6],[0.604...|  1.0|(7,[1,4,6],[0.604...|2.4312127918581616|\n",
      "| 90|     100019|     2.67|0.214551|0.509738|0.151545|        1.0|       62.0|     0.071429|         3.0|[0.214551,0.50973...|  2.0|[0.214551,0.50973...|2.0565623492627574|\n",
      "| 92|     100019|     2.33|0.362008|0.509738|0.255699|        1.0|       67.0|     0.076923|         2.0|[0.362008,0.50973...|  1.0|[0.362008,0.50973...|1.4486309624082894|\n",
      "+---+-----------+---------+--------+--------+--------+-----------+-----------+-------------+------------+--------------------+-----+--------------------+------------------+\n",
      "only showing top 5 rows\n",
      "\n"
     ]
    }
   ],
   "source": [
    "predict_rf.show(5)"
   ]
  },
  {
   "cell_type": "code",
   "execution_count": 91,
   "metadata": {},
   "outputs": [
    {
     "name": "stdout",
     "output_type": "stream",
     "text": [
      "Root Mean Squared Error = 1.52284\n"
     ]
    }
   ],
   "source": [
    "# evluator for regression \n",
    "evaluator = RegressionEvaluator(labelCol=\"label\", predictionCol=\"prediction\", metricName=\"rmse\")\n",
    "rmse = evaluator.evaluate(predict_rf)\n",
    "print(\"Root Mean Squared Error = %g\" % rmse)"
   ]
  },
  {
   "cell_type": "markdown",
   "metadata": {},
   "source": [
    "## (3) Output result"
   ]
  },
  {
   "cell_type": "code",
   "execution_count": 92,
   "metadata": {},
   "outputs": [],
   "source": [
    "df_test = spark.read.csv(\"/Users/jiemin/Documents/cmu/tasks/task14/test_s_formatted.csv\",header=True,inferSchema=True)"
   ]
  },
  {
   "cell_type": "code",
   "execution_count": 93,
   "metadata": {},
   "outputs": [
    {
     "name": "stdout",
     "output_type": "stream",
     "text": [
      "+---+-----------+---------+--------+--------+--------+-----------+-----------+-------------+------------+\n",
      "| id|product_uid|relevance|cosine_1|cosine_2|cosine_3|common_word|fuzzy_train|jaccard_train|query_length|\n",
      "+---+-----------+---------+--------+--------+--------+-----------+-----------+-------------+------------+\n",
      "|  2|     100001|      3.0|0.276609|0.206489|     0.0|        1.0|       56.0|          0.2|         2.0|\n",
      "|  3|     100001|      2.5|     0.0|0.206489|     0.0|        0.0|       19.0|          0.0|         2.0|\n",
      "|  9|     100002|      3.0|     0.0|0.240663|0.056452|        0.0|       19.0|          0.0|         2.0|\n",
      "| 16|     100005|     2.33|0.145886|0.383327|  0.0451|        1.0|       55.0|     0.066667|         3.0|\n",
      "| 17|     100005|     2.67|0.428689|0.383327|0.132527|        3.0|      100.0|     0.230769|         3.0|\n",
      "+---+-----------+---------+--------+--------+--------+-----------+-----------+-------------+------------+\n",
      "only showing top 5 rows\n",
      "\n"
     ]
    }
   ],
   "source": [
    "df.show(5)"
   ]
  },
  {
   "cell_type": "code",
   "execution_count": 94,
   "metadata": {},
   "outputs": [
    {
     "name": "stdout",
     "output_type": "stream",
     "text": [
      "+---+-----------+---------+--------+--------+--------+-----------+-----------+-------------+------------+--------------------+\n",
      "| id|product_uid|relevance|cosine_1|cosine_2|cosine_3|common_word|fuzzy_train|jaccard_train|query_length|            features|\n",
      "+---+-----------+---------+--------+--------+--------+-----------+-----------+-------------+------------+--------------------+\n",
      "|  2|     100001|      3.0|0.276609|0.206489|     0.0|        1.0|       56.0|          0.2|         2.0|[0.276609,0.20648...|\n",
      "|  3|     100001|      2.5|     0.0|0.206489|     0.0|        0.0|       19.0|          0.0|         2.0|(7,[1,4,6],[0.206...|\n",
      "|  9|     100002|      3.0|     0.0|0.240663|0.056452|        0.0|       19.0|          0.0|         2.0|[0.0,0.240663,0.0...|\n",
      "| 16|     100005|     2.33|0.145886|0.383327|  0.0451|        1.0|       55.0|     0.066667|         3.0|[0.145886,0.38332...|\n",
      "| 17|     100005|     2.67|0.428689|0.383327|0.132527|        3.0|      100.0|     0.230769|         3.0|[0.428689,0.38332...|\n",
      "+---+-----------+---------+--------+--------+--------+-----------+-----------+-------------+------------+--------------------+\n",
      "only showing top 5 rows\n",
      "\n"
     ]
    }
   ],
   "source": [
    "df_train = vs.transform(df)\n",
    "df_train.show(5)"
   ]
  },
  {
   "cell_type": "markdown",
   "metadata": {},
   "source": [
    "### 1) Linear regression"
   ]
  },
  {
   "cell_type": "code",
   "execution_count": 95,
   "metadata": {},
   "outputs": [],
   "source": [
    "lr = LinearRegression(featuresCol='features', regParam=0.3, elasticNetParam=0.8,labelCol='relevance',maxIter=1000)\n",
    "model_lr = lr.fit(df_train)\n",
    "test = vs.transform(df_test)\n",
    "predict_linear = model_lr.transform(test)"
   ]
  },
  {
   "cell_type": "code",
   "execution_count": 96,
   "metadata": {},
   "outputs": [],
   "source": [
    "p_lr = predict_linear\n",
    "p_lr = p_lr.drop(\"product_uid\",\"cosine_1\",\"cosine_2\",\"cosine_3\",\"common_word\",\"fuzzy_train\",\"jaccard_train\",\"query_length\",\"features\")\n",
    "p_lr.toPandas().to_csv(\"predict_result_lr.csv\",index=False)"
   ]
  },
  {
   "cell_type": "markdown",
   "metadata": {},
   "source": [
    "### 2) Random forest"
   ]
  },
  {
   "cell_type": "code",
   "execution_count": 97,
   "metadata": {},
   "outputs": [],
   "source": [
    "model_rf = pipeline.fit(df_train)\n",
    "predict_random = model.transform(test)"
   ]
  },
  {
   "cell_type": "code",
   "execution_count": 98,
   "metadata": {
    "scrolled": false
   },
   "outputs": [
    {
     "name": "stdout",
     "output_type": "stream",
     "text": [
      "+---+-----------+--------+--------+--------+-----------+-----------+-------------+------------+--------------------+--------------------+------------------+\n",
      "| id|product_uid|cosine_1|cosine_2|cosine_3|common_word|fuzzy_train|jaccard_train|query_length|            features|     indexedFeatures|        prediction|\n",
      "+---+-----------+--------+--------+--------+-----------+-----------+-------------+------------+--------------------+--------------------+------------------+\n",
      "|  1|     100001|     0.0|0.206489|0.043806|        0.0|       28.0|          0.0|         3.0|[0.0,0.206489,0.0...|[0.0,0.206489,0.0...|2.4903236903787382|\n",
      "|  4|     100001|     0.0|0.206489|     0.0|        0.0|       24.0|          0.0|         3.0|(7,[1,4,6],[0.206...|(7,[1,4,6],[0.206...| 2.549244832902799|\n",
      "|  5|     100001|0.300237|0.206489|0.064453|        1.0|       61.0|     0.166667|         3.0|[0.300237,0.20648...|[0.300237,0.20648...|2.0859801912656737|\n",
      "|  6|     100001|0.485935|0.206489|0.136106|        1.0|       85.0|     0.166667|         3.0|[0.485935,0.20648...|[0.485935,0.20648...|1.7149729406667824|\n",
      "|  7|     100001|0.800377|0.206489|0.205847|        1.0|       84.0|     0.142857|         4.0|[0.800377,0.20648...|[0.800377,0.20648...|1.7170379287241897|\n",
      "+---+-----------+--------+--------+--------+-----------+-----------+-------------+------------+--------------------+--------------------+------------------+\n",
      "only showing top 5 rows\n",
      "\n"
     ]
    }
   ],
   "source": [
    "predict_random.show(5)"
   ]
  },
  {
   "cell_type": "code",
   "execution_count": null,
   "metadata": {},
   "outputs": [],
   "source": [
    "p_rf = predict_random\n",
    "p_rf = p_rf.drop(\"product_uid\",\"cosine_1\",\"cosine_2\",\"cosine_3\",\"common_word\",\"fuzzy_train\",\"jaccard_train\",\"query_length\",\"features\")\n",
    "p_rf.toPandas().to_csv(\"predict_result_rf\",index=False)"
   ]
  }
 ],
 "metadata": {
  "kernelspec": {
   "display_name": "Python 3",
   "language": "python",
   "name": "python3"
  },
  "language_info": {
   "codemirror_mode": {
    "name": "ipython",
    "version": 3
   },
   "file_extension": ".py",
   "mimetype": "text/x-python",
   "name": "python",
   "nbconvert_exporter": "python",
   "pygments_lexer": "ipython3",
   "version": "3.6.5"
  }
 },
 "nbformat": 4,
 "nbformat_minor": 2
}
